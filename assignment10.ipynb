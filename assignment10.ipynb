{
 "cells": [
  {
   "cell_type": "markdown",
   "id": "a0aa4572-9610-4769-8959-2d625324f7ff",
   "metadata": {},
   "source": [
    "**Relevant reading for this problem set**:\n",
    "<a href=\"https://moderndive.com/10-inference-for-regression.html\"\n",
    "target=\"_blank\">ModernDive Chapter 10: Inference for Regression</a>.\n",
    "\n",
    "## Background\n",
    "\n",
    "For this problem set you will apply statistical inference to a linear\n",
    "modeling and explore methods to check the required conditions. To start\n",
    "we will build a model using data from the `palmerpenguins` package. The\n",
    "`penguins` data contains size measurements for three penguin species\n",
    "observed on three islands in the Palmer Archipelago, Antarctica.\n",
    "\n",
    "First we will start with our typical exploratory data analysis and then\n",
    "build our linear model. From there we will use our new skills to make\n",
    "inferences about our regression model and check the necessary\n",
    "conditions."
   ]
  },
  {
   "cell_type": "markdown",
   "id": "1e226ecf-fc8d-4821-8400-b9214360a682",
   "metadata": {},
   "source": [
    "### Load packages\n",
    "\n",
    "We will read the data in from the`palmerpenguins` package, explore the\n",
    "data using the `dplyr` package and visualize it using the `ggplot2`\n",
    "package. The `moderndive` package includes some nice functions to show\n",
    "regression model outputs and finally use the `infer` package for “tidy”\n",
    "and transparent statistical inference."
   ]
  },
  {
   "cell_type": "code",
   "execution_count": 1,
   "id": "1f240635-fae8-4580-9314-c1a5657db30b",
   "metadata": {},
   "outputs": [
    {
     "name": "stderr",
     "output_type": "stream",
     "text": [
      "-- \u001b[1mAttaching packages\u001b[22m -------------------------------------- tidymodels 1.1.0 --\n",
      "\n",
      "\u001b[32mv\u001b[39m \u001b[34mbroom       \u001b[39m 1.0.5     \u001b[32mv\u001b[39m \u001b[34mrsample     \u001b[39m 1.1.1\n",
      "\u001b[32mv\u001b[39m \u001b[34mdials       \u001b[39m 1.2.0     \u001b[32mv\u001b[39m \u001b[34mtibble      \u001b[39m 3.2.1\n",
      "\u001b[32mv\u001b[39m \u001b[34mdplyr       \u001b[39m 1.1.4     \u001b[32mv\u001b[39m \u001b[34mtidyr       \u001b[39m 1.3.1\n",
      "\u001b[32mv\u001b[39m \u001b[34mggplot2     \u001b[39m 3.4.2     \u001b[32mv\u001b[39m \u001b[34mtune        \u001b[39m 1.1.1\n",
      "\u001b[32mv\u001b[39m \u001b[34mmodeldata   \u001b[39m 1.1.0     \u001b[32mv\u001b[39m \u001b[34mworkflows   \u001b[39m 1.1.3\n",
      "\u001b[32mv\u001b[39m \u001b[34mparsnip     \u001b[39m 1.1.0     \u001b[32mv\u001b[39m \u001b[34mworkflowsets\u001b[39m 1.0.1\n",
      "\u001b[32mv\u001b[39m \u001b[34mpurrr       \u001b[39m 1.0.2     \u001b[32mv\u001b[39m \u001b[34myardstick   \u001b[39m 1.3.1\n",
      "\u001b[32mv\u001b[39m \u001b[34mrecipes     \u001b[39m 1.0.6     \n",
      "\n",
      "-- \u001b[1mConflicts\u001b[22m ----------------------------------------- tidymodels_conflicts() --\n",
      "\u001b[31mx\u001b[39m \u001b[34mpurrr\u001b[39m::\u001b[32mdiscard()\u001b[39m masks \u001b[34mscales\u001b[39m::discard()\n",
      "\u001b[31mx\u001b[39m \u001b[34mdplyr\u001b[39m::\u001b[32mfilter()\u001b[39m  masks \u001b[34mstats\u001b[39m::filter()\n",
      "\u001b[31mx\u001b[39m \u001b[34mdplyr\u001b[39m::\u001b[32mlag()\u001b[39m     masks \u001b[34mstats\u001b[39m::lag()\n",
      "\u001b[31mx\u001b[39m \u001b[34mrecipes\u001b[39m::\u001b[32mstep()\u001b[39m  masks \u001b[34mstats\u001b[39m::step()\n",
      "\u001b[34m*\u001b[39m Learn how to get started at \u001b[32mhttps://www.tidymodels.org/start/\u001b[39m\n",
      "\n"
     ]
    }
   ],
   "source": [
    "library('moderndive')\n",
    "library('infer')\n",
    "library('palmerpenguins')\n",
    "library('tidymodels')"
   ]
  },
  {
   "cell_type": "markdown",
   "id": "b98913f9-1b80-466d-ae54-b89c4d2a205f",
   "metadata": {},
   "source": [
    "### The data"
   ]
  },
  {
   "cell_type": "code",
   "execution_count": 3,
   "id": "cbe7b822-8fe5-4514-8a9b-b42bc1559665",
   "metadata": {},
   "outputs": [
    {
     "data": {
      "text/html": [
       "<table class=\"dataframe\">\n",
       "<caption>A tibble: 342 × 7</caption>\n",
       "<thead>\n",
       "\t<tr><th scope=col>species</th><th scope=col>island</th><th scope=col>bill_length_mm</th><th scope=col>bill_depth_mm</th><th scope=col>flipper_length_mm</th><th scope=col>body_mass_g</th><th scope=col>sex</th></tr>\n",
       "\t<tr><th scope=col>&lt;fct&gt;</th><th scope=col>&lt;fct&gt;</th><th scope=col>&lt;dbl&gt;</th><th scope=col>&lt;dbl&gt;</th><th scope=col>&lt;int&gt;</th><th scope=col>&lt;int&gt;</th><th scope=col>&lt;fct&gt;</th></tr>\n",
       "</thead>\n",
       "<tbody>\n",
       "\t<tr><td>Adelie</td><td>Torgersen</td><td>39.1</td><td>18.7</td><td>181</td><td>3750</td><td>male  </td></tr>\n",
       "\t<tr><td>Adelie</td><td>Torgersen</td><td>39.5</td><td>17.4</td><td>186</td><td>3800</td><td>female</td></tr>\n",
       "\t<tr><td>Adelie</td><td>Torgersen</td><td>40.3</td><td>18.0</td><td>195</td><td>3250</td><td>female</td></tr>\n",
       "\t<tr><td>Adelie</td><td>Torgersen</td><td>36.7</td><td>19.3</td><td>193</td><td>3450</td><td>female</td></tr>\n",
       "\t<tr><td>Adelie</td><td>Torgersen</td><td>39.3</td><td>20.6</td><td>190</td><td>3650</td><td>male  </td></tr>\n",
       "\t<tr><td>Adelie</td><td>Torgersen</td><td>38.9</td><td>17.8</td><td>181</td><td>3625</td><td>female</td></tr>\n",
       "\t<tr><td>Adelie</td><td>Torgersen</td><td>39.2</td><td>19.6</td><td>195</td><td>4675</td><td>male  </td></tr>\n",
       "\t<tr><td>Adelie</td><td>Torgersen</td><td>34.1</td><td>18.1</td><td>193</td><td>3475</td><td>NA    </td></tr>\n",
       "\t<tr><td>Adelie</td><td>Torgersen</td><td>42.0</td><td>20.2</td><td>190</td><td>4250</td><td>NA    </td></tr>\n",
       "\t<tr><td>Adelie</td><td>Torgersen</td><td>37.8</td><td>17.1</td><td>186</td><td>3300</td><td>NA    </td></tr>\n",
       "\t<tr><td>Adelie</td><td>Torgersen</td><td>37.8</td><td>17.3</td><td>180</td><td>3700</td><td>NA    </td></tr>\n",
       "\t<tr><td>Adelie</td><td>Torgersen</td><td>41.1</td><td>17.6</td><td>182</td><td>3200</td><td>female</td></tr>\n",
       "\t<tr><td>Adelie</td><td>Torgersen</td><td>38.6</td><td>21.2</td><td>191</td><td>3800</td><td>male  </td></tr>\n",
       "\t<tr><td>Adelie</td><td>Torgersen</td><td>34.6</td><td>21.1</td><td>198</td><td>4400</td><td>male  </td></tr>\n",
       "\t<tr><td>Adelie</td><td>Torgersen</td><td>36.6</td><td>17.8</td><td>185</td><td>3700</td><td>female</td></tr>\n",
       "\t<tr><td>Adelie</td><td>Torgersen</td><td>38.7</td><td>19.0</td><td>195</td><td>3450</td><td>female</td></tr>\n",
       "\t<tr><td>Adelie</td><td>Torgersen</td><td>42.5</td><td>20.7</td><td>197</td><td>4500</td><td>male  </td></tr>\n",
       "\t<tr><td>Adelie</td><td>Torgersen</td><td>34.4</td><td>18.4</td><td>184</td><td>3325</td><td>female</td></tr>\n",
       "\t<tr><td>Adelie</td><td>Torgersen</td><td>46.0</td><td>21.5</td><td>194</td><td>4200</td><td>male  </td></tr>\n",
       "\t<tr><td>Adelie</td><td>Biscoe   </td><td>37.8</td><td>18.3</td><td>174</td><td>3400</td><td>female</td></tr>\n",
       "\t<tr><td>Adelie</td><td>Biscoe   </td><td>37.7</td><td>18.7</td><td>180</td><td>3600</td><td>male  </td></tr>\n",
       "\t<tr><td>Adelie</td><td>Biscoe   </td><td>35.9</td><td>19.2</td><td>189</td><td>3800</td><td>female</td></tr>\n",
       "\t<tr><td>Adelie</td><td>Biscoe   </td><td>38.2</td><td>18.1</td><td>185</td><td>3950</td><td>male  </td></tr>\n",
       "\t<tr><td>Adelie</td><td>Biscoe   </td><td>38.8</td><td>17.2</td><td>180</td><td>3800</td><td>male  </td></tr>\n",
       "\t<tr><td>Adelie</td><td>Biscoe   </td><td>35.3</td><td>18.9</td><td>187</td><td>3800</td><td>female</td></tr>\n",
       "\t<tr><td>Adelie</td><td>Biscoe   </td><td>40.6</td><td>18.6</td><td>183</td><td>3550</td><td>male  </td></tr>\n",
       "\t<tr><td>Adelie</td><td>Biscoe   </td><td>40.5</td><td>17.9</td><td>187</td><td>3200</td><td>female</td></tr>\n",
       "\t<tr><td>Adelie</td><td>Biscoe   </td><td>37.9</td><td>18.6</td><td>172</td><td>3150</td><td>female</td></tr>\n",
       "\t<tr><td>Adelie</td><td>Biscoe   </td><td>40.5</td><td>18.9</td><td>180</td><td>3950</td><td>male  </td></tr>\n",
       "\t<tr><td>Adelie</td><td>Dream    </td><td>39.5</td><td>16.7</td><td>178</td><td>3250</td><td>female</td></tr>\n",
       "\t<tr><td>...</td><td>...</td><td>...</td><td>...</td><td>...</td><td>...</td><td>...</td></tr>\n",
       "\t<tr><td>Chinstrap</td><td>Dream</td><td>46.9</td><td>16.6</td><td>192</td><td>2700</td><td>female</td></tr>\n",
       "\t<tr><td>Chinstrap</td><td>Dream</td><td>53.5</td><td>19.9</td><td>205</td><td>4500</td><td>male  </td></tr>\n",
       "\t<tr><td>Chinstrap</td><td>Dream</td><td>49.0</td><td>19.5</td><td>210</td><td>3950</td><td>male  </td></tr>\n",
       "\t<tr><td>Chinstrap</td><td>Dream</td><td>46.2</td><td>17.5</td><td>187</td><td>3650</td><td>female</td></tr>\n",
       "\t<tr><td>Chinstrap</td><td>Dream</td><td>50.9</td><td>19.1</td><td>196</td><td>3550</td><td>male  </td></tr>\n",
       "\t<tr><td>Chinstrap</td><td>Dream</td><td>45.5</td><td>17.0</td><td>196</td><td>3500</td><td>female</td></tr>\n",
       "\t<tr><td>Chinstrap</td><td>Dream</td><td>50.9</td><td>17.9</td><td>196</td><td>3675</td><td>female</td></tr>\n",
       "\t<tr><td>Chinstrap</td><td>Dream</td><td>50.8</td><td>18.5</td><td>201</td><td>4450</td><td>male  </td></tr>\n",
       "\t<tr><td>Chinstrap</td><td>Dream</td><td>50.1</td><td>17.9</td><td>190</td><td>3400</td><td>female</td></tr>\n",
       "\t<tr><td>Chinstrap</td><td>Dream</td><td>49.0</td><td>19.6</td><td>212</td><td>4300</td><td>male  </td></tr>\n",
       "\t<tr><td>Chinstrap</td><td>Dream</td><td>51.5</td><td>18.7</td><td>187</td><td>3250</td><td>male  </td></tr>\n",
       "\t<tr><td>Chinstrap</td><td>Dream</td><td>49.8</td><td>17.3</td><td>198</td><td>3675</td><td>female</td></tr>\n",
       "\t<tr><td>Chinstrap</td><td>Dream</td><td>48.1</td><td>16.4</td><td>199</td><td>3325</td><td>female</td></tr>\n",
       "\t<tr><td>Chinstrap</td><td>Dream</td><td>51.4</td><td>19.0</td><td>201</td><td>3950</td><td>male  </td></tr>\n",
       "\t<tr><td>Chinstrap</td><td>Dream</td><td>45.7</td><td>17.3</td><td>193</td><td>3600</td><td>female</td></tr>\n",
       "\t<tr><td>Chinstrap</td><td>Dream</td><td>50.7</td><td>19.7</td><td>203</td><td>4050</td><td>male  </td></tr>\n",
       "\t<tr><td>Chinstrap</td><td>Dream</td><td>42.5</td><td>17.3</td><td>187</td><td>3350</td><td>female</td></tr>\n",
       "\t<tr><td>Chinstrap</td><td>Dream</td><td>52.2</td><td>18.8</td><td>197</td><td>3450</td><td>male  </td></tr>\n",
       "\t<tr><td>Chinstrap</td><td>Dream</td><td>45.2</td><td>16.6</td><td>191</td><td>3250</td><td>female</td></tr>\n",
       "\t<tr><td>Chinstrap</td><td>Dream</td><td>49.3</td><td>19.9</td><td>203</td><td>4050</td><td>male  </td></tr>\n",
       "\t<tr><td>Chinstrap</td><td>Dream</td><td>50.2</td><td>18.8</td><td>202</td><td>3800</td><td>male  </td></tr>\n",
       "\t<tr><td>Chinstrap</td><td>Dream</td><td>45.6</td><td>19.4</td><td>194</td><td>3525</td><td>female</td></tr>\n",
       "\t<tr><td>Chinstrap</td><td>Dream</td><td>51.9</td><td>19.5</td><td>206</td><td>3950</td><td>male  </td></tr>\n",
       "\t<tr><td>Chinstrap</td><td>Dream</td><td>46.8</td><td>16.5</td><td>189</td><td>3650</td><td>female</td></tr>\n",
       "\t<tr><td>Chinstrap</td><td>Dream</td><td>45.7</td><td>17.0</td><td>195</td><td>3650</td><td>female</td></tr>\n",
       "\t<tr><td>Chinstrap</td><td>Dream</td><td>55.8</td><td>19.8</td><td>207</td><td>4000</td><td>male  </td></tr>\n",
       "\t<tr><td>Chinstrap</td><td>Dream</td><td>43.5</td><td>18.1</td><td>202</td><td>3400</td><td>female</td></tr>\n",
       "\t<tr><td>Chinstrap</td><td>Dream</td><td>49.6</td><td>18.2</td><td>193</td><td>3775</td><td>male  </td></tr>\n",
       "\t<tr><td>Chinstrap</td><td>Dream</td><td>50.8</td><td>19.0</td><td>210</td><td>4100</td><td>male  </td></tr>\n",
       "\t<tr><td>Chinstrap</td><td>Dream</td><td>50.2</td><td>18.7</td><td>198</td><td>3775</td><td>female</td></tr>\n",
       "</tbody>\n",
       "</table>\n"
      ],
      "text/latex": [
       "A tibble: 342 × 7\n",
       "\\begin{tabular}{lllllll}\n",
       " species & island & bill\\_length\\_mm & bill\\_depth\\_mm & flipper\\_length\\_mm & body\\_mass\\_g & sex\\\\\n",
       " <fct> & <fct> & <dbl> & <dbl> & <int> & <int> & <fct>\\\\\n",
       "\\hline\n",
       "\t Adelie & Torgersen & 39.1 & 18.7 & 181 & 3750 & male  \\\\\n",
       "\t Adelie & Torgersen & 39.5 & 17.4 & 186 & 3800 & female\\\\\n",
       "\t Adelie & Torgersen & 40.3 & 18.0 & 195 & 3250 & female\\\\\n",
       "\t Adelie & Torgersen & 36.7 & 19.3 & 193 & 3450 & female\\\\\n",
       "\t Adelie & Torgersen & 39.3 & 20.6 & 190 & 3650 & male  \\\\\n",
       "\t Adelie & Torgersen & 38.9 & 17.8 & 181 & 3625 & female\\\\\n",
       "\t Adelie & Torgersen & 39.2 & 19.6 & 195 & 4675 & male  \\\\\n",
       "\t Adelie & Torgersen & 34.1 & 18.1 & 193 & 3475 & NA    \\\\\n",
       "\t Adelie & Torgersen & 42.0 & 20.2 & 190 & 4250 & NA    \\\\\n",
       "\t Adelie & Torgersen & 37.8 & 17.1 & 186 & 3300 & NA    \\\\\n",
       "\t Adelie & Torgersen & 37.8 & 17.3 & 180 & 3700 & NA    \\\\\n",
       "\t Adelie & Torgersen & 41.1 & 17.6 & 182 & 3200 & female\\\\\n",
       "\t Adelie & Torgersen & 38.6 & 21.2 & 191 & 3800 & male  \\\\\n",
       "\t Adelie & Torgersen & 34.6 & 21.1 & 198 & 4400 & male  \\\\\n",
       "\t Adelie & Torgersen & 36.6 & 17.8 & 185 & 3700 & female\\\\\n",
       "\t Adelie & Torgersen & 38.7 & 19.0 & 195 & 3450 & female\\\\\n",
       "\t Adelie & Torgersen & 42.5 & 20.7 & 197 & 4500 & male  \\\\\n",
       "\t Adelie & Torgersen & 34.4 & 18.4 & 184 & 3325 & female\\\\\n",
       "\t Adelie & Torgersen & 46.0 & 21.5 & 194 & 4200 & male  \\\\\n",
       "\t Adelie & Biscoe    & 37.8 & 18.3 & 174 & 3400 & female\\\\\n",
       "\t Adelie & Biscoe    & 37.7 & 18.7 & 180 & 3600 & male  \\\\\n",
       "\t Adelie & Biscoe    & 35.9 & 19.2 & 189 & 3800 & female\\\\\n",
       "\t Adelie & Biscoe    & 38.2 & 18.1 & 185 & 3950 & male  \\\\\n",
       "\t Adelie & Biscoe    & 38.8 & 17.2 & 180 & 3800 & male  \\\\\n",
       "\t Adelie & Biscoe    & 35.3 & 18.9 & 187 & 3800 & female\\\\\n",
       "\t Adelie & Biscoe    & 40.6 & 18.6 & 183 & 3550 & male  \\\\\n",
       "\t Adelie & Biscoe    & 40.5 & 17.9 & 187 & 3200 & female\\\\\n",
       "\t Adelie & Biscoe    & 37.9 & 18.6 & 172 & 3150 & female\\\\\n",
       "\t Adelie & Biscoe    & 40.5 & 18.9 & 180 & 3950 & male  \\\\\n",
       "\t Adelie & Dream     & 39.5 & 16.7 & 178 & 3250 & female\\\\\n",
       "\t ... & ... & ... & ... & ... & ... & ...\\\\\n",
       "\t Chinstrap & Dream & 46.9 & 16.6 & 192 & 2700 & female\\\\\n",
       "\t Chinstrap & Dream & 53.5 & 19.9 & 205 & 4500 & male  \\\\\n",
       "\t Chinstrap & Dream & 49.0 & 19.5 & 210 & 3950 & male  \\\\\n",
       "\t Chinstrap & Dream & 46.2 & 17.5 & 187 & 3650 & female\\\\\n",
       "\t Chinstrap & Dream & 50.9 & 19.1 & 196 & 3550 & male  \\\\\n",
       "\t Chinstrap & Dream & 45.5 & 17.0 & 196 & 3500 & female\\\\\n",
       "\t Chinstrap & Dream & 50.9 & 17.9 & 196 & 3675 & female\\\\\n",
       "\t Chinstrap & Dream & 50.8 & 18.5 & 201 & 4450 & male  \\\\\n",
       "\t Chinstrap & Dream & 50.1 & 17.9 & 190 & 3400 & female\\\\\n",
       "\t Chinstrap & Dream & 49.0 & 19.6 & 212 & 4300 & male  \\\\\n",
       "\t Chinstrap & Dream & 51.5 & 18.7 & 187 & 3250 & male  \\\\\n",
       "\t Chinstrap & Dream & 49.8 & 17.3 & 198 & 3675 & female\\\\\n",
       "\t Chinstrap & Dream & 48.1 & 16.4 & 199 & 3325 & female\\\\\n",
       "\t Chinstrap & Dream & 51.4 & 19.0 & 201 & 3950 & male  \\\\\n",
       "\t Chinstrap & Dream & 45.7 & 17.3 & 193 & 3600 & female\\\\\n",
       "\t Chinstrap & Dream & 50.7 & 19.7 & 203 & 4050 & male  \\\\\n",
       "\t Chinstrap & Dream & 42.5 & 17.3 & 187 & 3350 & female\\\\\n",
       "\t Chinstrap & Dream & 52.2 & 18.8 & 197 & 3450 & male  \\\\\n",
       "\t Chinstrap & Dream & 45.2 & 16.6 & 191 & 3250 & female\\\\\n",
       "\t Chinstrap & Dream & 49.3 & 19.9 & 203 & 4050 & male  \\\\\n",
       "\t Chinstrap & Dream & 50.2 & 18.8 & 202 & 3800 & male  \\\\\n",
       "\t Chinstrap & Dream & 45.6 & 19.4 & 194 & 3525 & female\\\\\n",
       "\t Chinstrap & Dream & 51.9 & 19.5 & 206 & 3950 & male  \\\\\n",
       "\t Chinstrap & Dream & 46.8 & 16.5 & 189 & 3650 & female\\\\\n",
       "\t Chinstrap & Dream & 45.7 & 17.0 & 195 & 3650 & female\\\\\n",
       "\t Chinstrap & Dream & 55.8 & 19.8 & 207 & 4000 & male  \\\\\n",
       "\t Chinstrap & Dream & 43.5 & 18.1 & 202 & 3400 & female\\\\\n",
       "\t Chinstrap & Dream & 49.6 & 18.2 & 193 & 3775 & male  \\\\\n",
       "\t Chinstrap & Dream & 50.8 & 19.0 & 210 & 4100 & male  \\\\\n",
       "\t Chinstrap & Dream & 50.2 & 18.7 & 198 & 3775 & female\\\\\n",
       "\\end{tabular}\n"
      ],
      "text/markdown": [
       "\n",
       "A tibble: 342 × 7\n",
       "\n",
       "| species &lt;fct&gt; | island &lt;fct&gt; | bill_length_mm &lt;dbl&gt; | bill_depth_mm &lt;dbl&gt; | flipper_length_mm &lt;int&gt; | body_mass_g &lt;int&gt; | sex &lt;fct&gt; |\n",
       "|---|---|---|---|---|---|---|\n",
       "| Adelie | Torgersen | 39.1 | 18.7 | 181 | 3750 | male   |\n",
       "| Adelie | Torgersen | 39.5 | 17.4 | 186 | 3800 | female |\n",
       "| Adelie | Torgersen | 40.3 | 18.0 | 195 | 3250 | female |\n",
       "| Adelie | Torgersen | 36.7 | 19.3 | 193 | 3450 | female |\n",
       "| Adelie | Torgersen | 39.3 | 20.6 | 190 | 3650 | male   |\n",
       "| Adelie | Torgersen | 38.9 | 17.8 | 181 | 3625 | female |\n",
       "| Adelie | Torgersen | 39.2 | 19.6 | 195 | 4675 | male   |\n",
       "| Adelie | Torgersen | 34.1 | 18.1 | 193 | 3475 | NA     |\n",
       "| Adelie | Torgersen | 42.0 | 20.2 | 190 | 4250 | NA     |\n",
       "| Adelie | Torgersen | 37.8 | 17.1 | 186 | 3300 | NA     |\n",
       "| Adelie | Torgersen | 37.8 | 17.3 | 180 | 3700 | NA     |\n",
       "| Adelie | Torgersen | 41.1 | 17.6 | 182 | 3200 | female |\n",
       "| Adelie | Torgersen | 38.6 | 21.2 | 191 | 3800 | male   |\n",
       "| Adelie | Torgersen | 34.6 | 21.1 | 198 | 4400 | male   |\n",
       "| Adelie | Torgersen | 36.6 | 17.8 | 185 | 3700 | female |\n",
       "| Adelie | Torgersen | 38.7 | 19.0 | 195 | 3450 | female |\n",
       "| Adelie | Torgersen | 42.5 | 20.7 | 197 | 4500 | male   |\n",
       "| Adelie | Torgersen | 34.4 | 18.4 | 184 | 3325 | female |\n",
       "| Adelie | Torgersen | 46.0 | 21.5 | 194 | 4200 | male   |\n",
       "| Adelie | Biscoe    | 37.8 | 18.3 | 174 | 3400 | female |\n",
       "| Adelie | Biscoe    | 37.7 | 18.7 | 180 | 3600 | male   |\n",
       "| Adelie | Biscoe    | 35.9 | 19.2 | 189 | 3800 | female |\n",
       "| Adelie | Biscoe    | 38.2 | 18.1 | 185 | 3950 | male   |\n",
       "| Adelie | Biscoe    | 38.8 | 17.2 | 180 | 3800 | male   |\n",
       "| Adelie | Biscoe    | 35.3 | 18.9 | 187 | 3800 | female |\n",
       "| Adelie | Biscoe    | 40.6 | 18.6 | 183 | 3550 | male   |\n",
       "| Adelie | Biscoe    | 40.5 | 17.9 | 187 | 3200 | female |\n",
       "| Adelie | Biscoe    | 37.9 | 18.6 | 172 | 3150 | female |\n",
       "| Adelie | Biscoe    | 40.5 | 18.9 | 180 | 3950 | male   |\n",
       "| Adelie | Dream     | 39.5 | 16.7 | 178 | 3250 | female |\n",
       "| ... | ... | ... | ... | ... | ... | ... |\n",
       "| Chinstrap | Dream | 46.9 | 16.6 | 192 | 2700 | female |\n",
       "| Chinstrap | Dream | 53.5 | 19.9 | 205 | 4500 | male   |\n",
       "| Chinstrap | Dream | 49.0 | 19.5 | 210 | 3950 | male   |\n",
       "| Chinstrap | Dream | 46.2 | 17.5 | 187 | 3650 | female |\n",
       "| Chinstrap | Dream | 50.9 | 19.1 | 196 | 3550 | male   |\n",
       "| Chinstrap | Dream | 45.5 | 17.0 | 196 | 3500 | female |\n",
       "| Chinstrap | Dream | 50.9 | 17.9 | 196 | 3675 | female |\n",
       "| Chinstrap | Dream | 50.8 | 18.5 | 201 | 4450 | male   |\n",
       "| Chinstrap | Dream | 50.1 | 17.9 | 190 | 3400 | female |\n",
       "| Chinstrap | Dream | 49.0 | 19.6 | 212 | 4300 | male   |\n",
       "| Chinstrap | Dream | 51.5 | 18.7 | 187 | 3250 | male   |\n",
       "| Chinstrap | Dream | 49.8 | 17.3 | 198 | 3675 | female |\n",
       "| Chinstrap | Dream | 48.1 | 16.4 | 199 | 3325 | female |\n",
       "| Chinstrap | Dream | 51.4 | 19.0 | 201 | 3950 | male   |\n",
       "| Chinstrap | Dream | 45.7 | 17.3 | 193 | 3600 | female |\n",
       "| Chinstrap | Dream | 50.7 | 19.7 | 203 | 4050 | male   |\n",
       "| Chinstrap | Dream | 42.5 | 17.3 | 187 | 3350 | female |\n",
       "| Chinstrap | Dream | 52.2 | 18.8 | 197 | 3450 | male   |\n",
       "| Chinstrap | Dream | 45.2 | 16.6 | 191 | 3250 | female |\n",
       "| Chinstrap | Dream | 49.3 | 19.9 | 203 | 4050 | male   |\n",
       "| Chinstrap | Dream | 50.2 | 18.8 | 202 | 3800 | male   |\n",
       "| Chinstrap | Dream | 45.6 | 19.4 | 194 | 3525 | female |\n",
       "| Chinstrap | Dream | 51.9 | 19.5 | 206 | 3950 | male   |\n",
       "| Chinstrap | Dream | 46.8 | 16.5 | 189 | 3650 | female |\n",
       "| Chinstrap | Dream | 45.7 | 17.0 | 195 | 3650 | female |\n",
       "| Chinstrap | Dream | 55.8 | 19.8 | 207 | 4000 | male   |\n",
       "| Chinstrap | Dream | 43.5 | 18.1 | 202 | 3400 | female |\n",
       "| Chinstrap | Dream | 49.6 | 18.2 | 193 | 3775 | male   |\n",
       "| Chinstrap | Dream | 50.8 | 19.0 | 210 | 4100 | male   |\n",
       "| Chinstrap | Dream | 50.2 | 18.7 | 198 | 3775 | female |\n",
       "\n"
      ],
      "text/plain": [
       "    species   island    bill_length_mm bill_depth_mm flipper_length_mm\n",
       "1   Adelie    Torgersen 39.1           18.7          181              \n",
       "2   Adelie    Torgersen 39.5           17.4          186              \n",
       "3   Adelie    Torgersen 40.3           18.0          195              \n",
       "4   Adelie    Torgersen 36.7           19.3          193              \n",
       "5   Adelie    Torgersen 39.3           20.6          190              \n",
       "6   Adelie    Torgersen 38.9           17.8          181              \n",
       "7   Adelie    Torgersen 39.2           19.6          195              \n",
       "8   Adelie    Torgersen 34.1           18.1          193              \n",
       "9   Adelie    Torgersen 42.0           20.2          190              \n",
       "10  Adelie    Torgersen 37.8           17.1          186              \n",
       "11  Adelie    Torgersen 37.8           17.3          180              \n",
       "12  Adelie    Torgersen 41.1           17.6          182              \n",
       "13  Adelie    Torgersen 38.6           21.2          191              \n",
       "14  Adelie    Torgersen 34.6           21.1          198              \n",
       "15  Adelie    Torgersen 36.6           17.8          185              \n",
       "16  Adelie    Torgersen 38.7           19.0          195              \n",
       "17  Adelie    Torgersen 42.5           20.7          197              \n",
       "18  Adelie    Torgersen 34.4           18.4          184              \n",
       "19  Adelie    Torgersen 46.0           21.5          194              \n",
       "20  Adelie    Biscoe    37.8           18.3          174              \n",
       "21  Adelie    Biscoe    37.7           18.7          180              \n",
       "22  Adelie    Biscoe    35.9           19.2          189              \n",
       "23  Adelie    Biscoe    38.2           18.1          185              \n",
       "24  Adelie    Biscoe    38.8           17.2          180              \n",
       "25  Adelie    Biscoe    35.3           18.9          187              \n",
       "26  Adelie    Biscoe    40.6           18.6          183              \n",
       "27  Adelie    Biscoe    40.5           17.9          187              \n",
       "28  Adelie    Biscoe    37.9           18.6          172              \n",
       "29  Adelie    Biscoe    40.5           18.9          180              \n",
       "30  Adelie    Dream     39.5           16.7          178              \n",
       "... ...       ...       ...            ...           ...              \n",
       "313 Chinstrap Dream     46.9           16.6          192              \n",
       "314 Chinstrap Dream     53.5           19.9          205              \n",
       "315 Chinstrap Dream     49.0           19.5          210              \n",
       "316 Chinstrap Dream     46.2           17.5          187              \n",
       "317 Chinstrap Dream     50.9           19.1          196              \n",
       "318 Chinstrap Dream     45.5           17.0          196              \n",
       "319 Chinstrap Dream     50.9           17.9          196              \n",
       "320 Chinstrap Dream     50.8           18.5          201              \n",
       "321 Chinstrap Dream     50.1           17.9          190              \n",
       "322 Chinstrap Dream     49.0           19.6          212              \n",
       "323 Chinstrap Dream     51.5           18.7          187              \n",
       "324 Chinstrap Dream     49.8           17.3          198              \n",
       "325 Chinstrap Dream     48.1           16.4          199              \n",
       "326 Chinstrap Dream     51.4           19.0          201              \n",
       "327 Chinstrap Dream     45.7           17.3          193              \n",
       "328 Chinstrap Dream     50.7           19.7          203              \n",
       "329 Chinstrap Dream     42.5           17.3          187              \n",
       "330 Chinstrap Dream     52.2           18.8          197              \n",
       "331 Chinstrap Dream     45.2           16.6          191              \n",
       "332 Chinstrap Dream     49.3           19.9          203              \n",
       "333 Chinstrap Dream     50.2           18.8          202              \n",
       "334 Chinstrap Dream     45.6           19.4          194              \n",
       "335 Chinstrap Dream     51.9           19.5          206              \n",
       "336 Chinstrap Dream     46.8           16.5          189              \n",
       "337 Chinstrap Dream     45.7           17.0          195              \n",
       "338 Chinstrap Dream     55.8           19.8          207              \n",
       "339 Chinstrap Dream     43.5           18.1          202              \n",
       "340 Chinstrap Dream     49.6           18.2          193              \n",
       "341 Chinstrap Dream     50.8           19.0          210              \n",
       "342 Chinstrap Dream     50.2           18.7          198              \n",
       "    body_mass_g sex   \n",
       "1   3750        male  \n",
       "2   3800        female\n",
       "3   3250        female\n",
       "4   3450        female\n",
       "5   3650        male  \n",
       "6   3625        female\n",
       "7   4675        male  \n",
       "8   3475        NA    \n",
       "9   4250        NA    \n",
       "10  3300        NA    \n",
       "11  3700        NA    \n",
       "12  3200        female\n",
       "13  3800        male  \n",
       "14  4400        male  \n",
       "15  3700        female\n",
       "16  3450        female\n",
       "17  4500        male  \n",
       "18  3325        female\n",
       "19  4200        male  \n",
       "20  3400        female\n",
       "21  3600        male  \n",
       "22  3800        female\n",
       "23  3950        male  \n",
       "24  3800        male  \n",
       "25  3800        female\n",
       "26  3550        male  \n",
       "27  3200        female\n",
       "28  3150        female\n",
       "29  3950        male  \n",
       "30  3250        female\n",
       "... ...         ...   \n",
       "313 2700        female\n",
       "314 4500        male  \n",
       "315 3950        male  \n",
       "316 3650        female\n",
       "317 3550        male  \n",
       "318 3500        female\n",
       "319 3675        female\n",
       "320 4450        male  \n",
       "321 3400        female\n",
       "322 4300        male  \n",
       "323 3250        male  \n",
       "324 3675        female\n",
       "325 3325        female\n",
       "326 3950        male  \n",
       "327 3600        female\n",
       "328 4050        male  \n",
       "329 3350        female\n",
       "330 3450        male  \n",
       "331 3250        female\n",
       "332 4050        male  \n",
       "333 3800        male  \n",
       "334 3525        female\n",
       "335 3950        male  \n",
       "336 3650        female\n",
       "337 3650        female\n",
       "338 4000        male  \n",
       "339 3400        female\n",
       "340 3775        male  \n",
       "341 4100        male  \n",
       "342 3775        female"
      ]
     },
     "metadata": {},
     "output_type": "display_data"
    }
   ],
   "source": [
    "pen = penguins |> \n",
    "  filter(!is.na(flipper_length_mm))\n",
    "\n",
    "pen"
   ]
  },
  {
   "cell_type": "markdown",
   "id": "5e802f18-a1f3-4888-8816-7af7359f27e9",
   "metadata": {},
   "source": [
    "Take a moment to look at the data using `glimpse` and `head`. The dataset contains 8\n",
    "variables. You can read more about the variables by placing your cursor in `penguins` and \n",
    "looking at the `Contextual Help` tool.\n",
    "\n",
    "For our lab we will focus on four variables, the explanatory variables\n",
    "include:\n",
    "\n",
    "-   `flipper_length_mm` - an integer denoting flipper length\n",
    "    (millimeters)\n",
    "-   `bill_length_mm` - a number denoting bill length (millimeters)\n",
    "-   `species`- denotes penguin species (Adélie, Chinstrap and Gentoo)\n",
    "\n",
    "The outcome variable `body_mass_g` is an integer denoting body mass\n",
    "(grams)."
   ]
  },
  {
   "cell_type": "markdown",
   "id": "01e84dab-4a73-45fa-9262-7f726cd18a47",
   "metadata": {},
   "source": [
    "### Visualization\n",
    "\n",
    "We will start by investigating the relationship between\n",
    "‘flipper_length_mm’ and ‘body_mass_g’."
   ]
  },
  {
   "cell_type": "code",
   "execution_count": 5,
   "id": "459849b6-4d10-4456-88a7-b4c4550d5202",
   "metadata": {},
   "outputs": [
    {
     "name": "stderr",
     "output_type": "stream",
     "text": [
      "\u001b[1m\u001b[22m`geom_smooth()` using formula = 'y ~ x'\n"
     ]
    },
    {
     "data": {
      "image/png": "[encoded data removed]",
      "text/plain": [
       "plot without title"
      ]
     },
     "metadata": {
      "image/png": {
       "height": 420,
       "width": 420
      }
     },
     "output_type": "display_data"
    }
   ],
   "source": [
    "ggplot(data = pen, aes(y = body_mass_g, x = flipper_length_mm)) + \n",
    "  geom_point() + \n",
    "  geom_smooth(method = \"lm\", se = FALSE) +\n",
    "  labs(x = \"Flipper length (millimeters)\", \n",
    "       y = \"Body mass (grams)\", \n",
    "       title = \"Flipper Length and Body Mass of Three Species of Penguins\") "
   ]
  },
  {
   "cell_type": "markdown",
   "id": "7a5a7bc2-774e-4c90-a2e6-12c5cd8c5e15",
   "metadata": {},
   "source": [
    "## Question 1\n",
    "\n",
    "Does the relationship appear to be positive or negative? Does it look to\n",
    "be reasonably linear?\n",
    "\n",
    "**Answer:** The relationship is seemingly positively linear according to the graph."
   ]
  },
  {
   "cell_type": "markdown",
   "id": "b31ecebc-35eb-4d49-af06-545eb60540b2",
   "metadata": {},
   "source": [
    "## Create a linear regression model"
   ]
  },
  {
   "cell_type": "markdown",
   "id": "e26aaea7-167b-47bd-83f0-4a1742dceb33",
   "metadata": {},
   "source": [
    "Here we use the [standard error](https://moderndive.com/10-inference-for-regression.html#regression-se) to calculate a confidence interval. Later we will use the bootstrap resampling technique\n",
    "that does not rely on distrubutional assumptions."
   ]
  },
  {
   "cell_type": "code",
   "execution_count": 7,
   "id": "33a5d445-0349-49d4-b6f7-50dcc3b3a67d",
   "metadata": {},
   "outputs": [
    {
     "data": {
      "text/html": [
       "<table class=\"dataframe\">\n",
       "<caption>A tibble: 2 × 7</caption>\n",
       "<thead>\n",
       "\t<tr><th scope=col>term</th><th scope=col>estimate</th><th scope=col>std.error</th><th scope=col>statistic</th><th scope=col>p.value</th><th scope=col>lower_ci</th><th scope=col>upper_ci</th></tr>\n",
       "\t<tr><th scope=col>&lt;chr&gt;</th><th scope=col>&lt;dbl&gt;</th><th scope=col>&lt;dbl&gt;</th><th scope=col>&lt;dbl&gt;</th><th scope=col>&lt;dbl&gt;</th><th scope=col>&lt;dbl&gt;</th><th scope=col>&lt;dbl&gt;</th></tr>\n",
       "</thead>\n",
       "<tbody>\n",
       "\t<tr><td>(Intercept)      </td><td>-5780.83136</td><td>305.814504</td><td>-18.90306</td><td> 5.587301e-55</td><td>-6380.22779</td><td>-5181.43493</td></tr>\n",
       "\t<tr><td>flipper_length_mm</td><td>   49.68557</td><td>  1.518404</td><td> 32.72223</td><td>4.370681e-107</td><td>   46.70949</td><td>   52.66164</td></tr>\n",
       "</tbody>\n",
       "</table>\n"
      ],
      "text/latex": [
       "A tibble: 2 × 7\n",
       "\\begin{tabular}{lllllll}\n",
       " term & estimate & std.error & statistic & p.value & lower\\_ci & upper\\_ci\\\\\n",
       " <chr> & <dbl> & <dbl> & <dbl> & <dbl> & <dbl> & <dbl>\\\\\n",
       "\\hline\n",
       "\t (Intercept)       & -5780.83136 & 305.814504 & -18.90306 &  5.587301e-55 & -6380.22779 & -5181.43493\\\\\n",
       "\t flipper\\_length\\_mm &    49.68557 &   1.518404 &  32.72223 & 4.370681e-107 &    46.70949 &    52.66164\\\\\n",
       "\\end{tabular}\n"
      ],
      "text/markdown": [
       "\n",
       "A tibble: 2 × 7\n",
       "\n",
       "| term &lt;chr&gt; | estimate &lt;dbl&gt; | std.error &lt;dbl&gt; | statistic &lt;dbl&gt; | p.value &lt;dbl&gt; | lower_ci &lt;dbl&gt; | upper_ci &lt;dbl&gt; |\n",
       "|---|---|---|---|---|---|---|\n",
       "| (Intercept)       | -5780.83136 | 305.814504 | -18.90306 |  5.587301e-55 | -6380.22779 | -5181.43493 |\n",
       "| flipper_length_mm |    49.68557 |   1.518404 |  32.72223 | 4.370681e-107 |    46.70949 |    52.66164 |\n",
       "\n"
      ],
      "text/plain": [
       "  term              estimate    std.error  statistic p.value       lower_ci   \n",
       "1 (Intercept)       -5780.83136 305.814504 -18.90306  5.587301e-55 -6380.22779\n",
       "2 flipper_length_mm    49.68557   1.518404  32.72223 4.370681e-107    46.70949\n",
       "  upper_ci   \n",
       "1 -5181.43493\n",
       "2    52.66164"
      ]
     },
     "metadata": {},
     "output_type": "display_data"
    }
   ],
   "source": [
    "mod = linear_reg() |> set_engine('lm')\n",
    "\n",
    "pen_model = mod |> fit(body_mass_g ~ flipper_length_mm, data = pen)\n",
    "\n",
    "tidy(pen_model) |> mutate(lower_ci = estimate - 1.96 * std.error, upper_ci = estimate + 1.96 * std.error)"
   ]
  },
  {
   "cell_type": "markdown",
   "id": "d9c4f173-c7fd-4343-9eea-9a974562658c",
   "metadata": {},
   "source": [
    "## Question 2\n",
    "\n",
    "Using our shorthand interpretation for confidence intervals and the\n",
    "regression table, write a sentence interpreting the 95% confidence\n",
    "interval for $\\beta_1$?\n",
    "\n",
    "**Answer:** The 95% confidence interval for β₁ (flipper_length_mm) is between 46.71 and 52.66."
   ]
  },
  {
   "cell_type": "markdown",
   "id": "cfc20362-f551-4085-ad51-86848fc6aeee",
   "metadata": {},
   "source": [
    "## Question 3\n",
    "\n",
    "Recall that the test statistic and $p$-value correspond to the\n",
    "hypothesis test:\n",
    "\n",
    "$$\\begin{aligned} H_0:&\\beta_{1} = 0 \\\\\\ \\mbox{vs }H_A:& \\beta_{1} \\neq 0 \\end{aligned}$$\n",
    "\n",
    "Write up the results & conclusions for this hypothesis test.\n",
    "\n",
    "**Answer:**\n",
    "\n",
    "The test statistic t is equal to 32.72 with a p-value of approximately 4.37 x 10^-107. If we use the typical alpha character that is equal to 0.05, that means we reject the null hypothesis equal to 0. We know that $\\beta_{1}$ is not 0 and based on the visualization we created, we can infer that there is a positive correlation between Body Mass and Flipper Length. $\\beta_{1}$ is 49.69 approximately, and the 95% CI (46.71, 52.66) says that the increase of body mass of about 46.7 to 52.7 indicates that 1mm in the positive direction shows an increase in flipper length. All in all, it is a meaningful statistic. "
   ]
  },
  {
   "cell_type": "markdown",
   "id": "efc9a5d5-1cc8-46bf-84a7-d48065abf91c",
   "metadata": {},
   "source": [
    "## Question 4\n",
    "\n",
    "You may remember that this hypothesis test is only valid if certain\n",
    "“conditions for inference for regression” are met. Let’s take a closer\n",
    "look those conditions.\n",
    "\n",
    "1.  Linearity of relationship between variables\n",
    "2.  Independence of the residuals\n",
    "3.  Normality of the residuals\n",
    "4.  Equality of variance of the residuals"
   ]
  },
  {
   "cell_type": "markdown",
   "id": "fcfbdb7d-2e9c-402d-b31a-a19a8f92820c",
   "metadata": {},
   "source": [
    "## Linearity of relationship between variables\n",
    "\n",
    "**4a) ** This was analyzed in question 1. Did you say that the\n",
    "relationship between `flipper_length_mm` and `body_mass_g` appears to be\n",
    "linear?\n",
    "\n",
    "**Answer:** I believe the relationship between flipper_length_mm and body_mass_g appear to be linear \n"
   ]
  },
  {
   "cell_type": "markdown",
   "id": "064a20ec-f376-4a9b-9761-115aad39c336",
   "metadata": {},
   "source": [
    "## Independence of the residuals\n",
    "\n",
    "The observations in our data must be independent of one another. In this\n",
    "data, we can not be sure this is case, for example, some of the penguins\n",
    "included may be related (siblings, parents). We are not given enough\n",
    "information to verify this condition has been met.\n",
    "\n",
    "## Normality of the residuals\n",
    "\n",
    "The third condition is that the residuals should follow a Normal\n",
    "distribution centered 0. To check for normality, create a histogram.\n",
    "\n",
    "The code to get the residuals is given."
   ]
  },
  {
   "cell_type": "code",
   "execution_count": 9,
   "id": "cb2e1083-88f9-4012-9887-302cd57d3339",
   "metadata": {},
   "outputs": [
    {
     "data": {
      "text/html": [
       "<table class=\"dataframe\">\n",
       "<caption>A tibble: 6 × 9</caption>\n",
       "<thead>\n",
       "\t<tr><th scope=col>species</th><th scope=col>island</th><th scope=col>bill_length_mm</th><th scope=col>bill_depth_mm</th><th scope=col>flipper_length_mm</th><th scope=col>body_mass_g</th><th scope=col>sex</th><th scope=col>.pred</th><th scope=col>.resid</th></tr>\n",
       "\t<tr><th scope=col>&lt;fct&gt;</th><th scope=col>&lt;fct&gt;</th><th scope=col>&lt;dbl&gt;</th><th scope=col>&lt;dbl&gt;</th><th scope=col>&lt;int&gt;</th><th scope=col>&lt;int&gt;</th><th scope=col>&lt;fct&gt;</th><th scope=col>&lt;dbl&gt;</th><th scope=col>&lt;dbl&gt;</th></tr>\n",
       "</thead>\n",
       "<tbody>\n",
       "\t<tr><td>Adelie</td><td>Torgersen</td><td>39.1</td><td>18.7</td><td>181</td><td>3750</td><td>male  </td><td>3212.256</td><td> 537.743839</td></tr>\n",
       "\t<tr><td>Adelie</td><td>Torgersen</td><td>39.5</td><td>17.4</td><td>186</td><td>3800</td><td>female</td><td>3460.684</td><td> 339.316007</td></tr>\n",
       "\t<tr><td>Adelie</td><td>Torgersen</td><td>40.3</td><td>18.0</td><td>195</td><td>3250</td><td>female</td><td>3907.854</td><td>-657.854091</td></tr>\n",
       "\t<tr><td>Adelie</td><td>Torgersen</td><td>36.7</td><td>19.3</td><td>193</td><td>3450</td><td>female</td><td>3808.483</td><td>-358.482958</td></tr>\n",
       "\t<tr><td>Adelie</td><td>Torgersen</td><td>39.3</td><td>20.6</td><td>190</td><td>3650</td><td>male  </td><td>3659.426</td><td>  -9.426259</td></tr>\n",
       "\t<tr><td>Adelie</td><td>Torgersen</td><td>38.9</td><td>17.8</td><td>181</td><td>3625</td><td>female</td><td>3212.256</td><td> 412.743839</td></tr>\n",
       "</tbody>\n",
       "</table>\n"
      ],
      "text/latex": [
       "A tibble: 6 × 9\n",
       "\\begin{tabular}{lllllllll}\n",
       " species & island & bill\\_length\\_mm & bill\\_depth\\_mm & flipper\\_length\\_mm & body\\_mass\\_g & sex & .pred & .resid\\\\\n",
       " <fct> & <fct> & <dbl> & <dbl> & <int> & <int> & <fct> & <dbl> & <dbl>\\\\\n",
       "\\hline\n",
       "\t Adelie & Torgersen & 39.1 & 18.7 & 181 & 3750 & male   & 3212.256 &  537.743839\\\\\n",
       "\t Adelie & Torgersen & 39.5 & 17.4 & 186 & 3800 & female & 3460.684 &  339.316007\\\\\n",
       "\t Adelie & Torgersen & 40.3 & 18.0 & 195 & 3250 & female & 3907.854 & -657.854091\\\\\n",
       "\t Adelie & Torgersen & 36.7 & 19.3 & 193 & 3450 & female & 3808.483 & -358.482958\\\\\n",
       "\t Adelie & Torgersen & 39.3 & 20.6 & 190 & 3650 & male   & 3659.426 &   -9.426259\\\\\n",
       "\t Adelie & Torgersen & 38.9 & 17.8 & 181 & 3625 & female & 3212.256 &  412.743839\\\\\n",
       "\\end{tabular}\n"
      ],
      "text/markdown": [
       "\n",
       "A tibble: 6 × 9\n",
       "\n",
       "| species &lt;fct&gt; | island &lt;fct&gt; | bill_length_mm &lt;dbl&gt; | bill_depth_mm &lt;dbl&gt; | flipper_length_mm &lt;int&gt; | body_mass_g &lt;int&gt; | sex &lt;fct&gt; | .pred &lt;dbl&gt; | .resid &lt;dbl&gt; |\n",
       "|---|---|---|---|---|---|---|---|---|\n",
       "| Adelie | Torgersen | 39.1 | 18.7 | 181 | 3750 | male   | 3212.256 |  537.743839 |\n",
       "| Adelie | Torgersen | 39.5 | 17.4 | 186 | 3800 | female | 3460.684 |  339.316007 |\n",
       "| Adelie | Torgersen | 40.3 | 18.0 | 195 | 3250 | female | 3907.854 | -657.854091 |\n",
       "| Adelie | Torgersen | 36.7 | 19.3 | 193 | 3450 | female | 3808.483 | -358.482958 |\n",
       "| Adelie | Torgersen | 39.3 | 20.6 | 190 | 3650 | male   | 3659.426 |   -9.426259 |\n",
       "| Adelie | Torgersen | 38.9 | 17.8 | 181 | 3625 | female | 3212.256 |  412.743839 |\n",
       "\n"
      ],
      "text/plain": [
       "  species island    bill_length_mm bill_depth_mm flipper_length_mm body_mass_g\n",
       "1 Adelie  Torgersen 39.1           18.7          181               3750       \n",
       "2 Adelie  Torgersen 39.5           17.4          186               3800       \n",
       "3 Adelie  Torgersen 40.3           18.0          195               3250       \n",
       "4 Adelie  Torgersen 36.7           19.3          193               3450       \n",
       "5 Adelie  Torgersen 39.3           20.6          190               3650       \n",
       "6 Adelie  Torgersen 38.9           17.8          181               3625       \n",
       "  sex    .pred    .resid     \n",
       "1 male   3212.256  537.743839\n",
       "2 female 3460.684  339.316007\n",
       "3 female 3907.854 -657.854091\n",
       "4 female 3808.483 -358.482958\n",
       "5 male   3659.426   -9.426259\n",
       "6 female 3212.256  412.743839"
      ]
     },
     "metadata": {},
     "output_type": "display_data"
    }
   ],
   "source": [
    "regression_points = augment(pen_model, new_data = pen)\n",
    "\n",
    "regression_points |> head()"
   ]
  },
  {
   "cell_type": "markdown",
   "id": "e9d749da-90e2-4bb2-a3d3-4899360d8e22",
   "metadata": {},
   "source": [
    "**4b)**"
   ]
  },
  {
   "cell_type": "code",
   "execution_count": 53,
   "id": "506fc8e1-3134-468c-8461-f35887de40a2",
   "metadata": {},
   "outputs": [
    {
     "data": {
      "image/png": "[encoded data removed]",
      "text/plain": [
       "plot without title"
      ]
     },
     "metadata": {
      "image/png": {
       "height": 420,
       "width": 420
      }
     },
     "output_type": "display_data"
    }
   ],
   "source": [
    "#Add code for the histogram.\n",
    "ggplot(data = regression_points, aes(x = .resid)) + \n",
    "    geom_histogram(binwidth = 100, fill = \"steelblue\", color = \"black\") +\n",
    "    labs(\n",
    "        title = \"Histogram: Residuals\",\n",
    "        x = \"Residuals\"\n",
    "    )"
   ]
  },
  {
   "cell_type": "markdown",
   "id": "8498ca99-4f67-482a-92ff-1a2669bb2088",
   "metadata": {},
   "source": [
    "**4c)** Does this model meet the normality of residuals condition?\n",
    "\n",
    "**Answer:** I believe this model meet the normality of residuals condition."
   ]
  },
  {
   "cell_type": "markdown",
   "id": "4d36a56b-df65-4770-912a-b662079f673b",
   "metadata": {},
   "source": [
    "## Equality of variance of the residuals\n",
    "\n",
    "The final condition says that the residual should exhibit equal variace\n",
    "across all of the values of the explanatory variable.\n",
    "\n",
    "To check this condition we can create a scatterplot that has our\n",
    "explanatory variable, `flipper_length_mm`, on the x-axis and our\n",
    "residuals on the y-axis. Does this model meet the Normality of Residuals\n",
    "condition?"
   ]
  },
  {
   "cell_type": "code",
   "execution_count": 11,
   "id": "bd76ad40-744b-447e-9904-f9f2c274657a",
   "metadata": {},
   "outputs": [
    {
     "data": {
      "image/png": "[encoded data removed]",
      "text/plain": [
       "plot without title"
      ]
     },
     "metadata": {
      "image/png": {
       "height": 420,
       "width": 420
      }
     },
     "output_type": "display_data"
    }
   ],
   "source": [
    "ggplot(regression_points, aes(x = flipper_length_mm, y = .resid)) +\n",
    "  geom_point() +\n",
    "  labs(x = \"Flipper length in mm \", y = \"Residual\") +\n",
    "  geom_hline(yintercept = 0, col = \"blue\", linewidth = 1)"
   ]
  },
  {
   "cell_type": "markdown",
   "id": "28c11876-dd3d-47b4-9ead-9635169fdb81",
   "metadata": {},
   "source": [
    "**4d.** Does this model meet the equality of variance condition?\n",
    "\n",
    "**Answer:** I would say it follows the equality of variance condition"
   ]
  },
  {
   "cell_type": "markdown",
   "id": "9c6bb290-60cf-4d5d-adcf-cdaaa56ff5f8",
   "metadata": {},
   "source": [
    "## Question 5\n",
    "\n",
    "Now let’s circle back and take a second look at the confidence\n",
    "intervals. Using this bootstrap distribution, we’ll construct the 95%\n",
    "confidence interval using the percentile method and (if appropriate) the\n",
    "standard error method as well. We can compare our results to the results\n",
    "from R (which uses mathematical formula to construct confidence\n",
    "intervals.)\n",
    "\n",
    "### Step 1: Calculate the bootstrap statistic and Visualize the bootstrap distribution"
   ]
  },
  {
   "cell_type": "code",
   "execution_count": 13,
   "id": "53de2f0d-55a4-40fc-af56-db0047165b3a",
   "metadata": {},
   "outputs": [
    {
     "data": {
      "image/png": "[encoded data removed]",
      "text/plain": [
       "plot without title"
      ]
     },
     "metadata": {
      "image/png": {
       "height": 420,
       "width": 420
      }
     },
     "output_type": "display_data"
    }
   ],
   "source": [
    "bootstrap_distn_slope = pen |> \n",
    "  specify(formula = body_mass_g ~ flipper_length_mm) |>\n",
    "  generate(reps = 1000, type = \"bootstrap\") |>\n",
    "  calculate(stat = \"slope\")\n",
    "\n",
    "visualize(bootstrap_distn_slope)"
   ]
  },
  {
   "cell_type": "markdown",
   "id": "1b6bfd7b-fd5b-401b-a813-f81c2d224151",
   "metadata": {},
   "source": [
    "### Step 2: Calculate CI from the a bootstap resample using the percentile method.\n",
    "\n",
    "Find a 95% CI using percentile method:"
   ]
  },
  {
   "cell_type": "code",
   "execution_count": 15,
   "id": "e80d10e8-4add-458f-828d-0cf4707798b9",
   "metadata": {},
   "outputs": [
    {
     "data": {
      "text/html": [
       "<table class=\"dataframe\">\n",
       "<caption>A tibble: 1 × 2</caption>\n",
       "<thead>\n",
       "\t<tr><th scope=col>lower_ci</th><th scope=col>upper_ci</th></tr>\n",
       "\t<tr><th scope=col>&lt;dbl&gt;</th><th scope=col>&lt;dbl&gt;</th></tr>\n",
       "</thead>\n",
       "<tbody>\n",
       "\t<tr><td>46.85346</td><td>52.4427</td></tr>\n",
       "</tbody>\n",
       "</table>\n"
      ],
      "text/latex": [
       "A tibble: 1 × 2\n",
       "\\begin{tabular}{ll}\n",
       " lower\\_ci & upper\\_ci\\\\\n",
       " <dbl> & <dbl>\\\\\n",
       "\\hline\n",
       "\t 46.85346 & 52.4427\\\\\n",
       "\\end{tabular}\n"
      ],
      "text/markdown": [
       "\n",
       "A tibble: 1 × 2\n",
       "\n",
       "| lower_ci &lt;dbl&gt; | upper_ci &lt;dbl&gt; |\n",
       "|---|---|\n",
       "| 46.85346 | 52.4427 |\n",
       "\n"
      ],
      "text/plain": [
       "  lower_ci upper_ci\n",
       "1 46.85346 52.4427 "
      ]
     },
     "metadata": {},
     "output_type": "display_data"
    }
   ],
   "source": [
    "#finish the code here:\n",
    "\n",
    "bootstrap_distn_slope |>\n",
    "    summarize(lower_ci = quantile(stat, 0.025), upper_ci = quantile(stat, 0.975))"
   ]
  },
  {
   "cell_type": "markdown",
   "id": "89404d12-6aff-40b5-adc6-dbd6421314ca",
   "metadata": {},
   "source": [
    "## Question 6\n",
    "\n",
    "Write down the two 95% confidence intervals for the $\\beta_{1}$. a, b,\n",
    "c, and d with the appropriate values you’ve computed.\n",
    "\n",
    "When you are done, make sure all the `|` in the table still line up so\n",
    "your results print out in a table!\n",
    "\n",
    "| CI construction method                | lower value | upper value |\n",
    "|---------------------------------------|-------------|-------------|\n",
    "| Using bootstrap: percentile rule      |   46.85346         | 52.4427           |\n",
    "| Using mathematical formula (see [above](#Create-a-linear-regression-model)) | 46.70949           | 52.66164           |\n",
    "\n",
    "In your opinion, would you say these three confidence intervals are\n",
    "similar?\n",
    "\n",
    "**Answers:** I would say these confidence intervals are very similar. "
   ]
  },
  {
   "cell_type": "markdown",
   "id": "b64b236b-b606-4fe9-8d1c-d0a031aefad9",
   "metadata": {},
   "source": [
    "## Part 2\n",
    "\n",
    "For the next part you will check the conditions for regression inference\n",
    "for a new model. This model will have `bill_length_mm` and `species` as\n",
    "explanatory variables, and we’ll use the parallel slopes model"
   ]
  },
  {
   "cell_type": "code",
   "execution_count": 18,
   "id": "ffefffcb-1a48-42d7-802b-a114f7669726",
   "metadata": {},
   "outputs": [
    {
     "data": {
      "image/png": "[encoded data removed]",
      "text/plain": [
       "plot without title"
      ]
     },
     "metadata": {
      "image/png": {
       "height": 420,
       "width": 420
      }
     },
     "output_type": "display_data"
    }
   ],
   "source": [
    "ggplot(data = pen, aes(y = body_mass_g, x = bill_length_mm, color=species)) + \n",
    "  geom_point() + \n",
    "  geom_parallel_slopes(se = FALSE) +\n",
    "  labs(x = \"Bill length (millimeters)\", \n",
    "       y = \"Body mass (grams)\", \n",
    "       title = \"Bill Length and Body Mass of three Species of Penguins\") "
   ]
  },
  {
   "cell_type": "markdown",
   "id": "5384c0af-4a26-4f2d-9b66-82b079ef156f",
   "metadata": {},
   "source": [
    "Let’s fit the parallel slopes model"
   ]
  },
  {
   "cell_type": "code",
   "execution_count": 20,
   "id": "08249247-c0f2-4a19-96ac-5191591fd77b",
   "metadata": {},
   "outputs": [
    {
     "data": {
      "text/html": [
       "<table class=\"dataframe\">\n",
       "<caption>A tibble: 4 × 5</caption>\n",
       "<thead>\n",
       "\t<tr><th scope=col>term</th><th scope=col>estimate</th><th scope=col>std.error</th><th scope=col>statistic</th><th scope=col>p.value</th></tr>\n",
       "\t<tr><th scope=col>&lt;chr&gt;</th><th scope=col>&lt;dbl&gt;</th><th scope=col>&lt;dbl&gt;</th><th scope=col>&lt;dbl&gt;</th><th scope=col>&lt;dbl&gt;</th></tr>\n",
       "</thead>\n",
       "<tbody>\n",
       "\t<tr><td>(Intercept)     </td><td> 153.73969</td><td>268.901233</td><td>  0.5717329</td><td>5.678829e-01</td></tr>\n",
       "\t<tr><td>bill_length_mm  </td><td>  91.43582</td><td>  6.887119</td><td> 13.2763517</td><td>1.158990e-32</td></tr>\n",
       "\t<tr><td>speciesChinstrap</td><td>-885.81208</td><td> 88.250154</td><td>-10.0375131</td><td>6.373927e-21</td></tr>\n",
       "\t<tr><td>speciesGentoo   </td><td> 578.62916</td><td> 75.362341</td><td>  7.6779617</td><td>1.756354e-13</td></tr>\n",
       "</tbody>\n",
       "</table>\n"
      ],
      "text/latex": [
       "A tibble: 4 × 5\n",
       "\\begin{tabular}{lllll}\n",
       " term & estimate & std.error & statistic & p.value\\\\\n",
       " <chr> & <dbl> & <dbl> & <dbl> & <dbl>\\\\\n",
       "\\hline\n",
       "\t (Intercept)      &  153.73969 & 268.901233 &   0.5717329 & 5.678829e-01\\\\\n",
       "\t bill\\_length\\_mm   &   91.43582 &   6.887119 &  13.2763517 & 1.158990e-32\\\\\n",
       "\t speciesChinstrap & -885.81208 &  88.250154 & -10.0375131 & 6.373927e-21\\\\\n",
       "\t speciesGentoo    &  578.62916 &  75.362341 &   7.6779617 & 1.756354e-13\\\\\n",
       "\\end{tabular}\n"
      ],
      "text/markdown": [
       "\n",
       "A tibble: 4 × 5\n",
       "\n",
       "| term &lt;chr&gt; | estimate &lt;dbl&gt; | std.error &lt;dbl&gt; | statistic &lt;dbl&gt; | p.value &lt;dbl&gt; |\n",
       "|---|---|---|---|---|\n",
       "| (Intercept)      |  153.73969 | 268.901233 |   0.5717329 | 5.678829e-01 |\n",
       "| bill_length_mm   |   91.43582 |   6.887119 |  13.2763517 | 1.158990e-32 |\n",
       "| speciesChinstrap | -885.81208 |  88.250154 | -10.0375131 | 6.373927e-21 |\n",
       "| speciesGentoo    |  578.62916 |  75.362341 |   7.6779617 | 1.756354e-13 |\n",
       "\n"
      ],
      "text/plain": [
       "  term             estimate   std.error  statistic   p.value     \n",
       "1 (Intercept)       153.73969 268.901233   0.5717329 5.678829e-01\n",
       "2 bill_length_mm     91.43582   6.887119  13.2763517 1.158990e-32\n",
       "3 speciesChinstrap -885.81208  88.250154 -10.0375131 6.373927e-21\n",
       "4 speciesGentoo     578.62916  75.362341   7.6779617 1.756354e-13"
      ]
     },
     "metadata": {},
     "output_type": "display_data"
    }
   ],
   "source": [
    "# Fit regression model:\n",
    "\n",
    "mod = linear_reg() |> set_engine('lm')\n",
    "\n",
    "pen_parallel = mod |> fit(body_mass_g ~ bill_length_mm + species, data = pen)\n",
    "\n",
    "# Get regression table:\n",
    "tidy(pen_parallel)"
   ]
  },
  {
   "cell_type": "markdown",
   "id": "deba1a4b-32ec-4d18-a444-c5de277c2648",
   "metadata": {},
   "source": [
    "Let us once again inspect the conditions necessary for inference with\n",
    "regression.\n",
    "\n",
    "1.  Linearity of relationship between variables\n",
    "2.  Independence of the residuals\n",
    "3.  Normality of the residuals\n",
    "4.  Equality of variance of the residuals"
   ]
  },
  {
   "cell_type": "markdown",
   "id": "6f3147d3-cd6f-4068-aef1-b7120dc17ae8",
   "metadata": {},
   "source": [
    "## Question 7\n",
    "\n",
    "**Check for Linearity of relationship between variables **\n",
    "\n",
    "Would you say that the relationship between `bill_length_mm` and\n",
    "`body_mass_g` appears to be linear for each species?\n",
    "\n",
    "**Answer:** I believe the relationship between bill_length_mm and body_mass_g appears to be linear for each species. "
   ]
  },
  {
   "cell_type": "markdown",
   "id": "9daa172e-471f-4b9a-8476-9a3f78689249",
   "metadata": {},
   "source": [
    "**Check for Independence of the residuals **\n",
    "\n",
    "This is the same as the first model that we looked it. The observations\n",
    "in our data must be independent of one another. In this data, we can not\n",
    "be sure this is case, for example, some of the penguins included may be\n",
    "related (siblings, parents). We are not given enough information to\n",
    "verify this condition has been met."
   ]
  },
  {
   "cell_type": "markdown",
   "id": "bed291cd-7431-4c3a-816d-019276ff3004",
   "metadata": {},
   "source": [
    "## Question 8\n",
    "\n",
    "Check Normality of the residuals (and they should be centered at 0.)\n",
    "\n",
    "**8a) **"
   ]
  },
  {
   "cell_type": "code",
   "execution_count": 25,
   "id": "715b814f-76ea-4903-bd04-35bbbf587939",
   "metadata": {},
   "outputs": [
    {
     "data": {
      "text/html": [
       "<table class=\"dataframe\">\n",
       "<caption>A tibble: 6 × 9</caption>\n",
       "<thead>\n",
       "\t<tr><th scope=col>species</th><th scope=col>island</th><th scope=col>bill_length_mm</th><th scope=col>bill_depth_mm</th><th scope=col>flipper_length_mm</th><th scope=col>body_mass_g</th><th scope=col>sex</th><th scope=col>.pred</th><th scope=col>.resid</th></tr>\n",
       "\t<tr><th scope=col>&lt;fct&gt;</th><th scope=col>&lt;fct&gt;</th><th scope=col>&lt;dbl&gt;</th><th scope=col>&lt;dbl&gt;</th><th scope=col>&lt;int&gt;</th><th scope=col>&lt;int&gt;</th><th scope=col>&lt;fct&gt;</th><th scope=col>&lt;dbl&gt;</th><th scope=col>&lt;dbl&gt;</th></tr>\n",
       "</thead>\n",
       "<tbody>\n",
       "\t<tr><td>Adelie</td><td>Torgersen</td><td>39.1</td><td>18.7</td><td>181</td><td>3750</td><td>male  </td><td>3728.880</td><td>  21.11981</td></tr>\n",
       "\t<tr><td>Adelie</td><td>Torgersen</td><td>39.5</td><td>17.4</td><td>186</td><td>3800</td><td>female</td><td>3765.455</td><td>  34.54548</td></tr>\n",
       "\t<tr><td>Adelie</td><td>Torgersen</td><td>40.3</td><td>18.0</td><td>195</td><td>3250</td><td>female</td><td>3838.603</td><td>-588.60318</td></tr>\n",
       "\t<tr><td>Adelie</td><td>Torgersen</td><td>36.7</td><td>19.3</td><td>193</td><td>3450</td><td>female</td><td>3509.434</td><td> -59.43423</td></tr>\n",
       "\t<tr><td>Adelie</td><td>Torgersen</td><td>39.3</td><td>20.6</td><td>190</td><td>3650</td><td>male  </td><td>3747.167</td><td> -97.16736</td></tr>\n",
       "\t<tr><td>Adelie</td><td>Torgersen</td><td>38.9</td><td>17.8</td><td>181</td><td>3625</td><td>female</td><td>3710.593</td><td> -85.59303</td></tr>\n",
       "</tbody>\n",
       "</table>\n"
      ],
      "text/latex": [
       "A tibble: 6 × 9\n",
       "\\begin{tabular}{lllllllll}\n",
       " species & island & bill\\_length\\_mm & bill\\_depth\\_mm & flipper\\_length\\_mm & body\\_mass\\_g & sex & .pred & .resid\\\\\n",
       " <fct> & <fct> & <dbl> & <dbl> & <int> & <int> & <fct> & <dbl> & <dbl>\\\\\n",
       "\\hline\n",
       "\t Adelie & Torgersen & 39.1 & 18.7 & 181 & 3750 & male   & 3728.880 &   21.11981\\\\\n",
       "\t Adelie & Torgersen & 39.5 & 17.4 & 186 & 3800 & female & 3765.455 &   34.54548\\\\\n",
       "\t Adelie & Torgersen & 40.3 & 18.0 & 195 & 3250 & female & 3838.603 & -588.60318\\\\\n",
       "\t Adelie & Torgersen & 36.7 & 19.3 & 193 & 3450 & female & 3509.434 &  -59.43423\\\\\n",
       "\t Adelie & Torgersen & 39.3 & 20.6 & 190 & 3650 & male   & 3747.167 &  -97.16736\\\\\n",
       "\t Adelie & Torgersen & 38.9 & 17.8 & 181 & 3625 & female & 3710.593 &  -85.59303\\\\\n",
       "\\end{tabular}\n"
      ],
      "text/markdown": [
       "\n",
       "A tibble: 6 × 9\n",
       "\n",
       "| species &lt;fct&gt; | island &lt;fct&gt; | bill_length_mm &lt;dbl&gt; | bill_depth_mm &lt;dbl&gt; | flipper_length_mm &lt;int&gt; | body_mass_g &lt;int&gt; | sex &lt;fct&gt; | .pred &lt;dbl&gt; | .resid &lt;dbl&gt; |\n",
       "|---|---|---|---|---|---|---|---|---|\n",
       "| Adelie | Torgersen | 39.1 | 18.7 | 181 | 3750 | male   | 3728.880 |   21.11981 |\n",
       "| Adelie | Torgersen | 39.5 | 17.4 | 186 | 3800 | female | 3765.455 |   34.54548 |\n",
       "| Adelie | Torgersen | 40.3 | 18.0 | 195 | 3250 | female | 3838.603 | -588.60318 |\n",
       "| Adelie | Torgersen | 36.7 | 19.3 | 193 | 3450 | female | 3509.434 |  -59.43423 |\n",
       "| Adelie | Torgersen | 39.3 | 20.6 | 190 | 3650 | male   | 3747.167 |  -97.16736 |\n",
       "| Adelie | Torgersen | 38.9 | 17.8 | 181 | 3625 | female | 3710.593 |  -85.59303 |\n",
       "\n"
      ],
      "text/plain": [
       "  species island    bill_length_mm bill_depth_mm flipper_length_mm body_mass_g\n",
       "1 Adelie  Torgersen 39.1           18.7          181               3750       \n",
       "2 Adelie  Torgersen 39.5           17.4          186               3800       \n",
       "3 Adelie  Torgersen 40.3           18.0          195               3250       \n",
       "4 Adelie  Torgersen 36.7           19.3          193               3450       \n",
       "5 Adelie  Torgersen 39.3           20.6          190               3650       \n",
       "6 Adelie  Torgersen 38.9           17.8          181               3625       \n",
       "  sex    .pred    .resid    \n",
       "1 male   3728.880   21.11981\n",
       "2 female 3765.455   34.54548\n",
       "3 female 3838.603 -588.60318\n",
       "4 female 3509.434  -59.43423\n",
       "5 male   3747.167  -97.16736\n",
       "6 female 3710.593  -85.59303"
      ]
     },
     "metadata": {},
     "output_type": "display_data"
    }
   ],
   "source": [
    "regression_points_para = augment(pen_parallel, new_data = pen)\n",
    "\n",
    "regression_points_para |> head()"
   ]
  },
  {
   "cell_type": "code",
   "execution_count": 50,
   "id": "c7d7a748-430c-49c3-a341-150e0f42004d",
   "metadata": {},
   "outputs": [
    {
     "data": {
      "image/png": "[encoded data removed]",
      "text/plain": [
       "plot without title"
      ]
     },
     "metadata": {
      "image/png": {
       "height": 420,
       "width": 420
      }
     },
     "output_type": "display_data"
    }
   ],
   "source": [
    "#Add code for the histogram:\n",
    "\n",
    "ggplot(data = regression_points_para, aes(x = .resid)) + \n",
    "    geom_histogram(binwidth = 100, fill = \"steelblue\", color = \"black\") +\n",
    "    labs(\n",
    "        title = \"Histogram: Residuals\",\n",
    "        x = \"Residuals\"\n",
    "    )\n",
    "\n"
   ]
  },
  {
   "cell_type": "markdown",
   "id": "b9dee19b-f110-42f9-a2f8-17b7619d6af4",
   "metadata": {},
   "source": [
    "**8b)** Does this model meet the Normality of Residuals condition?\n",
    "\n",
    "**Answer:** I believe it fits the normality of residuals condition. "
   ]
  },
  {
   "cell_type": "markdown",
   "id": "995c8f4f-5681-49f5-bd56-0701fb84bc1c",
   "metadata": {},
   "source": [
    "## Question 9\n",
    "\n",
    "Check for Equality of variance of the residuals\n",
    "\n",
    "To check this condition we can create a scatterplot that has our\n",
    "explanatory variable, `flipper_length_mm`, on the x-axis and our\n",
    "residuals on the y-axis.\n",
    "\n",
    "**9a)**"
   ]
  },
  {
   "cell_type": "code",
   "execution_count": 59,
   "id": "6d4577f9-9c3f-4e58-bbc9-cc3e536c1551",
   "metadata": {},
   "outputs": [
    {
     "data": {
      "image/png": "[encoded data removed]",
      "text/plain": [
       "plot without title"
      ]
     },
     "metadata": {
      "image/png": {
       "height": 420,
       "width": 420
      }
     },
     "output_type": "display_data"
    }
   ],
   "source": [
    "#Add code to check this condition:\n",
    "\n",
    "ggplot(regression_points_para, aes(x = flipper_length_mm, y = .resid)) +\n",
    "  geom_point() +\n",
    "  labs(x = \"Flipper length(s) in mm \", y = \"Residual\") +\n",
    "  geom_hline(yintercept = 0, col = \"blue\", linewidth = 1)"
   ]
  },
  {
   "cell_type": "markdown",
   "id": "5902a96c-f8ec-4808-b0da-da8f9be81b20",
   "metadata": {},
   "source": [
    "**9b) **Does this meet the equality of variance of the residuals\n",
    "condition?\n",
    "\n",
    "**Answer:** I believe it meets the equality of variance of the residuals "
   ]
  },
  {
   "cell_type": "markdown",
   "id": "21ab88da-d123-436e-a47f-54e5ac568ba9",
   "metadata": {},
   "source": [
    "## Question 10\n",
    "\n",
    "Run the code below to find the confidence intervals for our model's coefficients."
   ]
  },
  {
   "cell_type": "code",
   "execution_count": 63,
   "id": "5aec7804-b820-46cd-a6ab-9c8ddfcc79a3",
   "metadata": {},
   "outputs": [
    {
     "data": {
      "text/html": [
       "<table class=\"dataframe\">\n",
       "<caption>A tibble: 4 × 6</caption>\n",
       "<thead>\n",
       "\t<tr><th scope=col>term</th><th scope=col>.lower</th><th scope=col>.estimate</th><th scope=col>.upper</th><th scope=col>.alpha</th><th scope=col>.method</th></tr>\n",
       "\t<tr><th scope=col>&lt;chr&gt;</th><th scope=col>&lt;dbl&gt;</th><th scope=col>&lt;dbl&gt;</th><th scope=col>&lt;dbl&gt;</th><th scope=col>&lt;dbl&gt;</th><th scope=col>&lt;chr&gt;</th></tr>\n",
       "</thead>\n",
       "<tbody>\n",
       "\t<tr><td>(Intercept)     </td><td> -354.46536</td><td> 134.22029</td><td> 583.3084</td><td>0.05</td><td>percentile</td></tr>\n",
       "\t<tr><td>bill_length_mm  </td><td>   80.42926</td><td>  91.94406</td><td> 104.1712</td><td>0.05</td><td>percentile</td></tr>\n",
       "\t<tr><td>speciesChinstrap</td><td>-1048.42172</td><td>-893.53134</td><td>-753.2418</td><td>0.05</td><td>percentile</td></tr>\n",
       "\t<tr><td>speciesGentoo   </td><td>  437.27470</td><td> 574.87255</td><td> 716.4657</td><td>0.05</td><td>percentile</td></tr>\n",
       "</tbody>\n",
       "</table>\n"
      ],
      "text/latex": [
       "A tibble: 4 × 6\n",
       "\\begin{tabular}{llllll}\n",
       " term & .lower & .estimate & .upper & .alpha & .method\\\\\n",
       " <chr> & <dbl> & <dbl> & <dbl> & <dbl> & <chr>\\\\\n",
       "\\hline\n",
       "\t (Intercept)      &  -354.46536 &  134.22029 &  583.3084 & 0.05 & percentile\\\\\n",
       "\t bill\\_length\\_mm   &    80.42926 &   91.94406 &  104.1712 & 0.05 & percentile\\\\\n",
       "\t speciesChinstrap & -1048.42172 & -893.53134 & -753.2418 & 0.05 & percentile\\\\\n",
       "\t speciesGentoo    &   437.27470 &  574.87255 &  716.4657 & 0.05 & percentile\\\\\n",
       "\\end{tabular}\n"
      ],
      "text/markdown": [
       "\n",
       "A tibble: 4 × 6\n",
       "\n",
       "| term &lt;chr&gt; | .lower &lt;dbl&gt; | .estimate &lt;dbl&gt; | .upper &lt;dbl&gt; | .alpha &lt;dbl&gt; | .method &lt;chr&gt; |\n",
       "|---|---|---|---|---|---|\n",
       "| (Intercept)      |  -354.46536 |  134.22029 |  583.3084 | 0.05 | percentile |\n",
       "| bill_length_mm   |    80.42926 |   91.94406 |  104.1712 | 0.05 | percentile |\n",
       "| speciesChinstrap | -1048.42172 | -893.53134 | -753.2418 | 0.05 | percentile |\n",
       "| speciesGentoo    |   437.27470 |  574.87255 |  716.4657 | 0.05 | percentile |\n",
       "\n"
      ],
      "text/plain": [
       "  term             .lower      .estimate  .upper    .alpha .method   \n",
       "1 (Intercept)       -354.46536  134.22029  583.3084 0.05   percentile\n",
       "2 bill_length_mm      80.42926   91.94406  104.1712 0.05   percentile\n",
       "3 speciesChinstrap -1048.42172 -893.53134 -753.2418 0.05   percentile\n",
       "4 speciesGentoo      437.27470  574.87255  716.4657 0.05   percentile"
      ]
     },
     "metadata": {},
     "output_type": "display_data"
    }
   ],
   "source": [
    "boots = bootstraps(pen, times = 1000, apparent = TRUE)\n",
    "\n",
    "mod = linear_reg() |> set_engine('lm')\n",
    "\n",
    "boot_models  = boots |> \n",
    "  mutate(model = map(splits, ~mod |> fit(body_mass_g ~ bill_length_mm + species, data = as_tibble(.x))),\n",
    "         coef_info = map(model, tidy))\n",
    "\n",
    "boot_coefs = boot_models |> \n",
    "  unnest(coef_info)\n",
    "\n",
    "percentile_intervals = int_pctl(boot_models, coef_info)\n",
    "\n",
    "percentile_intervals"
   ]
  },
  {
   "cell_type": "code",
   "execution_count": 65,
   "id": "e66bc71a-c43e-488a-aa8c-6888a28466c5",
   "metadata": {},
   "outputs": [
    {
     "name": "stderr",
     "output_type": "stream",
     "text": [
      "\u001b[1m\u001b[22m`stat_bin()` using `bins = 30`. Pick better value with `binwidth`.\n"
     ]
    },
    {
     "data": {
      "image/png": "[encoded data removed]",
      "text/plain": [
       "plot without title"
      ]
     },
     "metadata": {
      "image/png": {
       "height": 420,
       "width": 420
      }
     },
     "output_type": "display_data"
    }
   ],
   "source": [
    "boot_coefs |> \n",
    "    filter(term == 'bill_length_mm') |>\n",
    "ggplot(aes(x = estimate)) +\n",
    "    geom_histogram() +\n",
    "    geom_vline(xintercept = percentile_intervals |> filter(term == 'bill_length_mm') |> pull(.lower), color = 'coral') +\n",
    "    geom_vline(xintercept = percentile_intervals |> filter(term == 'bill_length_mm') |> pull(.upper), color = 'coral')"
   ]
  },
  {
   "cell_type": "markdown",
   "id": "3f05912d-464a-4362-9942-323e356b8b13",
   "metadata": {},
   "source": [
    "What can we conclude about the relationship between bill length and body\n",
    "mass?\n",
    "\n",
    "**Answer:**"
   ]
  },
  {
   "cell_type": "markdown",
   "id": "ef2a1043-7f15-4296-a721-90df90c9ffa3",
   "metadata": {},
   "source": [
    "\n",
    "\n",
    "I believe the relationship between flipper_length_mm and body_mass_g appear to be linear and positively associated. The relationship is statisticaly significant and the effect size is meaningful. We have a 90 gram increase per millimeter. We can also examine the specific species, and see that the type of species matters. "
   ]
  },
  {
   "cell_type": "code",
   "execution_count": null,
   "id": "ba7d04fa-43b2-475b-a150-e7ada1590c1f",
   "metadata": {},
   "outputs": [],
   "source": []
  }
 ],
 "metadata": {
  "kernelspec": {
   "display_name": "R",
   "language": "R",
   "name": "ir"
  },
  "language_info": {
   "codemirror_mode": "r",
   "file_extension": ".r",
   "mimetype": "text/x-r-source",
   "name": "R",
   "pygments_lexer": "r",
   "version": "4.1.3"
  }
 },
 "nbformat": 4,
 "nbformat_minor": 5
}
